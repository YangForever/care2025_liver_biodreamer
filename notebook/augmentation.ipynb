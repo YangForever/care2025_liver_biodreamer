{
 "cells": [
  {
   "cell_type": "code",
   "execution_count": 1,
   "id": "2d2c7208",
   "metadata": {},
   "outputs": [],
   "source": [
    "import nibabel as nib\n",
    "import os\n",
    "from augmentation import *\n",
    "import torch\n",
    "import numpy as np\n",
    "import random\n",
    "import torch.nn.functional as F\n",
    "from tqdm import tqdm\n",
    "\n",
    "mod1 = 'DWI_800.nii.gz'\n",
    "mod2 = 'GED1.nii.gz'\n",
    "mod3 = 'GED2.nii.gz'\n",
    "mod4 = 'GED3.nii.gz'\n",
    "mod5 = 'GED4.nii.gz'\n",
    "mod6 = 'T1.nii.gz'\n",
    "mod7 = 'T2.nii.gz'\n",
    "mod8 = 'mask_GED4.nii.gz'\n",
    "\n",
    "mods = [mod1, mod2, mod3, mod4, mod5, mod6, mod7, mod8]"
   ]
  },
  {
   "cell_type": "code",
   "execution_count": 2,
   "id": "73789d0d",
   "metadata": {},
   "outputs": [],
   "source": [
    "def aug_pair(\n",
    "             sample_dir,\n",
    "             src, \n",
    "             dst):\n",
    "    \"\"\"\n",
    "    Augment a pair of source and destination images.\n",
    "    :param sample_dir: Directory containing the sample images\n",
    "    :param src: Source image name\n",
    "    :param dst: Destination image name\n",
    "    :return: None\n",
    "    \"\"\"\n",
    "\n",
    "    ### read src and dst imgs and masks\n",
    "    src_path = os.path.join(sample_dir, src)\n",
    "    dst_path = os.path.join(sample_dir, dst)\n",
    "    if not os.path.exists(src_path) or not os.path.exists(dst_path):\n",
    "        print(f\"Source or destination path does not exist: {src_path}, {dst_path}\")\n",
    "        return\n",
    "\n",
    "    src_img = nib.load(os.path.join(src_path, mod5)).get_fdata()\n",
    "    src_mask = nib.load(os.path.join(src_path, mod8)).get_fdata()\n",
    "\n",
    "    dst_img = nib.load(os.path.join(dst_path, mod5)).get_fdata()\n",
    "    dst_mask = nib.load(os.path.join(dst_path, mod8)).get_fdata()\n",
    "\n",
    "    if src_mask.sum() == 0 or dst_mask.sum() == 0:\n",
    "        print(f\"Source or destination mask is empty: {src_path}, {dst_path}\")\n",
    "        import pdb; pdb.set_trace()\n",
    "\n",
    "    # augment src image and mask\n",
    "    src_img = torch.from_numpy(src_img).unsqueeze(0).unsqueeze(0) #bs, c, z, y, x\n",
    "    src_mask = torch.from_numpy(src_mask).unsqueeze(0) #bs, z, y, x\n",
    "\n",
    "    tgt_img = torch.from_numpy(dst_img).unsqueeze(0).unsqueeze(0) #bs, c, z, y, x\n",
    "    tgt_mask = torch.from_numpy(dst_mask).unsqueeze(0) #bs, z, y, x\n",
    "\n",
    "    ### if the img size is not the same, resize them\n",
    "    if src_img.shape[2:] != tgt_img.shape[2:]:\n",
    "        src_img = F.interpolate(src_img, size=tgt_img.shape[2:], mode='trilinear', align_corners=False)\n",
    "        src_mask = F.interpolate(src_mask.unsqueeze(1).float(), size=tgt_img.shape[2:], mode='nearest').squeeze(1).long()\n",
    "\n",
    "    if src_mask.sum() == 0 or tgt_mask.sum() == 0:\n",
    "        print(f\"Source or destination mask is empty after resizing: {src_path}, {dst_path}\")\n",
    "        import pdb; pdb.set_trace()\n",
    "    ### concat src and tgt images and masks as a batch\n",
    "    imgs = torch.cat([src_img, tgt_img], dim=0)  # bs, c, z, y, x\n",
    "    masks = torch.cat([src_mask, tgt_mask], dim=0)  # bs, z, y, x\n",
    "\n",
    "    # augment src image and mask\n",
    "    aug_imgs, aug_masks = ins_aug(imgs, masks)\n",
    "\n",
    "    # save augmented images and masks\n",
    "    aug_root = os.path.join('C:\\\\Users\\\\SCoulY\\\\Downloads\\\\care2025_liver_biodreamer\\\\data', 'augmented')\n",
    "    aug_path = os.path.join(aug_root, f'{src}_{dst}')\n",
    "    os.makedirs(aug_path, exist_ok=True)\n",
    "    for i, (aug_img, aug_mask) in enumerate(zip(aug_imgs, aug_masks)):\n",
    "        nib.save(nib.Nifti1Image(aug_img.squeeze(0).numpy(), None), os.path.join(aug_path, f'{src}_{dst}_img.nii.gz'))\n",
    "        nib.save(nib.Nifti1Image(aug_mask.squeeze(0).numpy(), None), os.path.join(aug_path, f'{src}_{dst}_mask.nii.gz'))\n"
   ]
  },
  {
   "cell_type": "code",
   "execution_count": 3,
   "id": "697fb329",
   "metadata": {},
   "outputs": [],
   "source": [
    "\n",
    "sample_dir = 'C:\\\\Users\\\\SCoulY\\\\Downloads\\\\care2025_liver_biodreamer\\\\data\\\\Vendor_A\\\\Vendor_A'\n",
    "\n",
    "def aug_vendor(sample_dir, folds=5):\n",
    "    \"\"\"\n",
    "    Augment all samples in the vendor directory.\n",
    "    :param sample_dir: Directory containing the vendor samples\n",
    "    :param folds: Number of folds for augmentation\n",
    "    :return: None\n",
    "    \"\"\"\n",
    "    if not os.path.exists(sample_dir):\n",
    "        print(f\"Sample directory does not exist: {sample_dir}\")\n",
    "        return\n",
    "    vendor = os.path.basename(sample_dir)\n",
    "    sample_names = os.listdir(sample_dir)\n",
    "\n",
    "    # check all vailable labels\n",
    "    label_names = []\n",
    "    for sample in sample_names:\n",
    "        sample_path = os.path.join(sample_dir, sample)\n",
    "        if 'mask_GED4.nii.gz' in os.listdir(sample_path):\n",
    "            label_names.append(sample)\n",
    "    print(f'Available {len(label_names)} labels in vendor {vendor}:', label_names)\n",
    "\n",
    "    for i, src in tqdm(enumerate(label_names), desc=f'Processing {vendor} samples'):\n",
    "        ### randomly select a label from the list\n",
    "        rest_labels = label_names[:i] + label_names[i+1:]  # exclude the current src\n",
    "        dsts = random.sample(rest_labels, folds)  # ensure dst is different from src\n",
    "        for dst in dsts:\n",
    "            aug_pair(sample_dir, src, dst)  # augment the same label for demonstration\n"
   ]
  },
  {
   "cell_type": "code",
   "execution_count": 5,
   "id": "2d8ced92",
   "metadata": {},
   "outputs": [
    {
     "name": "stderr",
     "output_type": "stream",
     "text": [
      "Processing all vendor directories:   0%|          | 0/1 [00:00<?, ?it/s]"
     ]
    },
    {
     "name": "stdout",
     "output_type": "stream",
     "text": [
      "Available 10 labels in vendor Vendor_B2: ['1031-B2-S1', '1041-B2-S3', '1053-B2-S3', '1070-B2-S4', '1075-B2-S4', '1076-B2-S4', '1086-B2-S4', '1097-B2-S4', '1098-B2-S4', '1115-B2-S4']\n"
     ]
    },
    {
     "name": "stderr",
     "output_type": "stream",
     "text": [
      "Processing Vendor_B2 samples: 10it [04:11, 25.12s/it]\n",
      "Processing all vendor directories: 100%|██████████| 1/1 [04:11<00:00, 251.23s/it]"
     ]
    },
    {
     "name": "stdout",
     "output_type": "stream",
     "text": [
      "Augmentation completed for C:\\Users\\SCoulY\\Downloads\\care2025_liver_biodreamer\\data\\Vendor_B2\\Vendor_B2\n"
     ]
    },
    {
     "name": "stderr",
     "output_type": "stream",
     "text": [
      "\n"
     ]
    }
   ],
   "source": [
    "# sample_dirs = ['C:\\\\Users\\\\SCoulY\\\\Downloads\\\\care2025_liver_biodreamer\\\\data\\\\Vendor_A\\\\Vendor_A',\n",
    "#                'C:\\\\Users\\\\SCoulY\\\\Downloads\\\\care2025_liver_biodreamer\\\\data\\\\Vendor_B2\\\\Vendor_B2',\n",
    "#                'C:\\\\Users\\\\SCoulY\\\\Downloads\\\\care2025_liver_biodreamer\\\\data\\\\Vendor_B1']\n",
    "\n",
    "\n",
    "sample_dirs = ['C:\\\\Users\\\\SCoulY\\\\Downloads\\\\care2025_liver_biodreamer\\\\data\\\\Vendor_B2\\\\Vendor_B2']\n",
    "for sample_dir in tqdm(sample_dirs, desc='Processing all vendor directories'):\n",
    "    aug_vendor(sample_dir, folds=5)  # augment all samples in the vendor directory\n",
    "    print(f'Augmentation completed for {sample_dir}')"
   ]
  }
 ],
 "metadata": {
  "kernelspec": {
   "display_name": "care2025-liver-biodreamer",
   "language": "python",
   "name": "python3"
  },
  "language_info": {
   "codemirror_mode": {
    "name": "ipython",
    "version": 3
   },
   "file_extension": ".py",
   "mimetype": "text/x-python",
   "name": "python",
   "nbconvert_exporter": "python",
   "pygments_lexer": "ipython3",
   "version": "3.11.12"
  }
 },
 "nbformat": 4,
 "nbformat_minor": 5
}
